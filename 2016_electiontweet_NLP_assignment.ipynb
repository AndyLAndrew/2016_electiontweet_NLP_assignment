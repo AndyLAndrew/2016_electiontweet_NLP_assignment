{
 "cells": [
  {
   "cell_type": "code",
   "execution_count": 76,
   "metadata": {
    "collapsed": true
   },
   "outputs": [
    {
     "name": "stderr",
     "output_type": "stream",
     "text": [
      "[nltk_data] Downloading package stopwords to\n",
      "[nltk_data]     /Users/Andrew/nltk_data...\n",
      "[nltk_data]   Package stopwords is already up-to-date!\n"
     ]
    }
   ],
   "source": [
    "import pandas as pd\n",
    "import nltk\n",
    "nltk.download('stopwords')\n",
    "from nltk.stem.porter import *\n",
    "import string\n",
    "from collections import defaultdict\n",
    "from nltk.corpus import stopwords\n",
    "import math\n",
    "import seaborn as sns\n",
    "import matplotlib.pyplot as plt"
   ]
  },
  {
   "cell_type": "markdown",
   "source": [
    "Question 1: Readings\n",
    "\n",
    "* (1a) What is the question that the authors tried to answer?\n",
    "    * What is the purpose of the censorship program conducted in China? Or more directly, is the purpose of the censorship program\n",
    "    to reduce the probability of collective action?\n",
    "* (1b) Briefly explain how the authors collected the data. What are the strengths and weakness of their data?\n",
    "    * The researchers collected data from social media blogs, notinf that a large majority of the data is not from only large sites, but smaller individual sites.\n",
    "    The hardest part for the researchers was finding all of these sites and getting proper access to the data. They acquired media posts from 1382 Chinese websites.\n",
    "    In total, about 3674698 posts with 127283 randomly selected for their further analysis. The main limitation/weakness of their data is that it does not take\n",
    "     into account any of the lost posts from firewalling/search limitations. Nor does it also take into account any form of censorship in person.\n",
    "* (1c) What machine learning algorithms did the authors use in this paper? In 1-2 paragraphs, explain the methodology of this paper.\n",
    "    * The authors seem to use a form of clustering and term frequency analysis based on the events found. What they first did regarding clustering was\n",
    "    organize the posts into 85 topic areas by keyword. They used burst detection to determine which keywords were most likely to occur and when, which ended up with\n",
    "    a 87/67 volume bursts/topic areas. Then, they classified the events into collective action potential, criticism of the censors, pornography, government, and other news.\n",
    "     The events would be categorized into these 5 and the accuracy of this method was checked by 2 independent coders who showed a 98.9%$ agreement with the results from their\n",
    "     own classification.\n",
    "* (1d) What does Figure 4 in this paper tell us? How does it relate to the question that the authors are trying to answer?\n",
    "    * Figure 4 shows us the specific events with the highest and lowest censorship magnitude, explaining that highly censored events are not criticisms of national policies, but more\n",
    "    localized collective expressions that represent or threaten group formation. This is extremely relevant to answering the question of the purpose of the chinese\n",
    "    censorhip program, as it shows the events most likely to be censored are the ones most likely to lead to collective action.\n",
    "* (1e) What do Figures 8 and 9 in this paper tell us? How does it relate to the question that the authors are trying to answer?\n",
    "    * Figure 8 shows us the percent of posts censored that either criticized or support the state, while figure 9 shows us the percent of posts\n",
    "    censored that are more related to collective action events or not, sorted into categories on whether the comments support or criticize the state.\n",
    "    These shows us that the percentage of censorship is not correlated to whether one supports or does not support the state, but rather if the comments\n",
    "    run the risk of collective action. Regardless of political support, the comment will be removed if it risks movements toward social action. This further\n",
    "    supports the question if the purpose of the censorship program is to reduce the probability of collective action."
   ],
   "metadata": {
    "collapsed": false,
    "pycharm": {
     "name": "#%% md\n"
    }
   }
  },
  {
   "cell_type": "code",
   "execution_count": 77,
   "outputs": [],
   "source": [
    "trump2016 = pd.read_csv(\"trump2016.csv\")\n",
    "clinton2016 = pd.read_csv(\"clinton2016.csv\")"
   ],
   "metadata": {
    "collapsed": false,
    "pycharm": {
     "name": "#%%\n"
    }
   }
  },
  {
   "cell_type": "markdown",
   "source": [
    "2a. Pre-process the tweets\n",
    "    * converting to lower cases\n",
    "    * removing stopwords (from nltk.corpus import stopwords)\n",
    "    * stemmingthewords(PorterStemmer()\n",
    "\n",
    "What are the top words in Trump’s tweets?\n",
    "What are the least common words in Trump’s tweets?"
   ],
   "metadata": {
    "collapsed": false,
    "pycharm": {
     "name": "#%% md\n"
    }
   }
  },
  {
   "cell_type": "code",
   "execution_count": 78,
   "outputs": [],
   "source": [
    "#Taking the column of texts into a new var named texts\n",
    "trumptexts = trump2016[\"text\"]\n",
    "clintontexts = clinton2016[\"text\"]"
   ],
   "metadata": {
    "collapsed": false,
    "pycharm": {
     "name": "#%%\n"
    }
   }
  },
  {
   "cell_type": "code",
   "execution_count": 79,
   "outputs": [
    {
     "data": {
      "text/plain": "0         Here is my statement.pic.twitter.com/WAZiGoQqMQ\n1       Is this really America? Terrible!pic.twitter.c...\n2       The media and establishment want me out of the...\n3       Wow, @CNN Town Hall questions were given to Cr...\n4       Debate polls look great - thank you!\\n#MAGA #A...\n                              ...                        \n8434    \"@noahshappy: @realDonaldTrump very true comme...\n8435    \"@MeleMallory: @realDonaldTrump You know it's ...\n8436    \"@ScreenPlayWritr: @realDonaldTrump Is Al Gore...\n8437    This very expensive GLOBAL WARMING bullshit ha...\n8438    Today is the first day of the rest of your lif...\nName: text, Length: 8439, dtype: object"
     },
     "execution_count": 79,
     "metadata": {},
     "output_type": "execute_result"
    }
   ],
   "source": [
    "#Checking trump texts\n",
    "trumptexts"
   ],
   "metadata": {
    "collapsed": false,
    "pycharm": {
     "name": "#%%\n"
    }
   }
  },
  {
   "cell_type": "code",
   "execution_count": 80,
   "outputs": [],
   "source": [
    "#Creating dictionary and zeroed integer for use in the for loops\n",
    "trumpwordcount = defaultdict(int)\n",
    "clintonwordcount = defaultdict(int)\n",
    "trumptotalwords = 0\n",
    "clintontotalwords = 0\n",
    "trumptweetclean = []"
   ],
   "metadata": {
    "collapsed": false,
    "pycharm": {
     "name": "#%%\n"
    }
   }
  },
  {
   "cell_type": "code",
   "execution_count": 81,
   "outputs": [],
   "source": [
    "punct = string.punctuation #Creating list of unwanted chars (punctuation that need to be removed)\n",
    "stemmer = PorterStemmer()\n",
    "stop_words = set(stopwords.words('english'))"
   ],
   "metadata": {
    "collapsed": false,
    "pycharm": {
     "name": "#%%\n"
    }
   }
  },
  {
   "cell_type": "code",
   "execution_count": 82,
   "outputs": [],
   "source": [
    "#Added this section in to help with 3c formatting\n",
    "tweetcolumns = [\"text\", \"wordcount\"]"
   ],
   "metadata": {
    "collapsed": false,
    "pycharm": {
     "name": "#%%\n"
    }
   }
  },
  {
   "cell_type": "code",
   "execution_count": 83,
   "outputs": [],
   "source": [
    "templist = []\n",
    "tmpstring = str(0)\n",
    "tempwordcount = 0"
   ],
   "metadata": {
    "collapsed": false,
    "pycharm": {
     "name": "#%%\n"
    }
   }
  },
  {
   "cell_type": "code",
   "execution_count": 84,
   "outputs": [],
   "source": [
    "tweetwordtrumpcount = pd.DataFrame(columns=tweetcolumns)\n",
    "for text in trumptexts:\n",
    "    text = text.lower() #Converting text into lowercase\n",
    "    text = [character for character in text if not (character in punct)] #Checking for punctuation\n",
    "    #Grabbing every single letter for every text (tweet)\n",
    "    text = ''.join(text) #Will form each character back into words (String)\n",
    "    words = text.strip().split() #Token conversion!\n",
    "    #Strips spaces outside of words and split words into single \"word\"\n",
    "    words = [word for word in words if not (word in stop_words)]\n",
    "#Loop for removing punctuation using stemmer (nested within lowercase loop)\n",
    "    for word in words:\n",
    "        word = stemmer.stem(word)\n",
    "        #Can now increment\n",
    "        trumptotalwords += 1\n",
    "        trumpwordcount[word] += 1\n",
    "        tempwordcount += 1\n",
    "    #Can append fixed phrases to dataframe plus adding word counts\n",
    "    #This section to the loop was added to make 2c much easier\n",
    "    tempstr = ' '.join(words)\n",
    "    templist = [[tempstr, tempwordcount]]\n",
    "    tempdf = pd.DataFrame(data = templist, columns=tweetcolumns)\n",
    "    tweetwordtrumpcount = tweetwordtrumpcount.append(tempdf, ignore_index=True)\n",
    "    tempwordcount = 0"
   ],
   "metadata": {
    "collapsed": false,
    "pycharm": {
     "name": "#%%\n"
    }
   }
  },
  {
   "cell_type": "code",
   "execution_count": 85,
   "outputs": [
    {
     "data": {
      "text/plain": "                                                text wordcount\n0                   statementpictwittercomwazigoqqmq         1\n1     really america terriblepictwittercomwiwc61pifu         3\n2  media establishment want race badly never drop...        12\n3  wow cnn town hall questions given crooked hill...        17\n4  debate polls look great thank maga americafirs...         7",
      "text/html": "<div>\n<style scoped>\n    .dataframe tbody tr th:only-of-type {\n        vertical-align: middle;\n    }\n\n    .dataframe tbody tr th {\n        vertical-align: top;\n    }\n\n    .dataframe thead th {\n        text-align: right;\n    }\n</style>\n<table border=\"1\" class=\"dataframe\">\n  <thead>\n    <tr style=\"text-align: right;\">\n      <th></th>\n      <th>text</th>\n      <th>wordcount</th>\n    </tr>\n  </thead>\n  <tbody>\n    <tr>\n      <th>0</th>\n      <td>statementpictwittercomwazigoqqmq</td>\n      <td>1</td>\n    </tr>\n    <tr>\n      <th>1</th>\n      <td>really america terriblepictwittercomwiwc61pifu</td>\n      <td>3</td>\n    </tr>\n    <tr>\n      <th>2</th>\n      <td>media establishment want race badly never drop...</td>\n      <td>12</td>\n    </tr>\n    <tr>\n      <th>3</th>\n      <td>wow cnn town hall questions given crooked hill...</td>\n      <td>17</td>\n    </tr>\n    <tr>\n      <th>4</th>\n      <td>debate polls look great thank maga americafirs...</td>\n      <td>7</td>\n    </tr>\n  </tbody>\n</table>\n</div>"
     },
     "execution_count": 85,
     "metadata": {},
     "output_type": "execute_result"
    }
   ],
   "source": [
    "tweetwordtrumpcount.head()"
   ],
   "metadata": {
    "collapsed": false,
    "pycharm": {
     "name": "#%%\n"
    }
   }
  },
  {
   "cell_type": "code",
   "execution_count": 86,
   "outputs": [],
   "source": [
    "#Appending trump's word count to a y x 2 list\n",
    "trumpwordcountlist = []\n",
    "\n",
    "for word in trumpwordcount:\n",
    "    trumpwordcountlist.append([trumpwordcount[word], word])\n",
    "\n",
    "#Now we can index/slice into this list and see the frequency of each word\n",
    "#trumpwordcountlist[0::]\n",
    "#Won't let this run for obvious reasons (too long)\n",
    "#Will need to organize based on frequency or simply call based on the number amount"
   ],
   "metadata": {
    "collapsed": false,
    "pycharm": {
     "name": "#%%\n"
    }
   }
  },
  {
   "cell_type": "code",
   "execution_count": 87,
   "outputs": [],
   "source": [
    "#trumpwordcountlist\n",
    "#Checking trumptexts tp see if it worked\n",
    "#This took me forever to fix, I had to recompare my notes and I found that\n",
    "#The \"word=\" piece of the code in the loop was missing"
   ],
   "metadata": {
    "collapsed": false,
    "pycharm": {
     "name": "#%%\n"
    }
   }
  },
  {
   "cell_type": "code",
   "execution_count": 88,
   "outputs": [
    {
     "data": {
      "text/plain": "[(1900, 'realdonaldtrump'),\n (1286, 'trump'),\n (1100, 'great'),\n (796, 'presid'),\n (751, 'thank')]"
     },
     "execution_count": 88,
     "metadata": {},
     "output_type": "execute_result"
    }
   ],
   "source": [
    "#Sorting count by frequency - Most common\n",
    "sortedtrumpwordcount = [(trumpwordcount[w], w) for w in trumpwordcount]\n",
    "sortedtrumpwordcount.sort(reverse=True)\n",
    "sortedtrumpwordcount[:5] #Displaying the 5 most common words"
   ],
   "metadata": {
    "collapsed": false,
    "pycharm": {
     "name": "#%%\n"
    }
   }
  },
  {
   "cell_type": "code",
   "execution_count": 89,
   "outputs": [],
   "source": [
    "#Doing the same processing for clinton texts + resetting temps\n",
    "templist = []\n",
    "tmpstring = str(0)\n",
    "tempwordcount = 0\n",
    "tweetwordclintoncount = pd.DataFrame(columns=tweetcolumns)\n",
    "for text in clintontexts:\n",
    "    text = text.lower() #Converting text into lowercase\n",
    "    text = [character for character in text if not (character in punct)] #Checking for punctuation\n",
    "    #Grabbing every single letter for every text (tweet)\n",
    "    text = ''.join(text) #Will form each character back into words (String)\n",
    "    words = text.strip().split() #Token conversion!\n",
    "    #Strips spaces outside of words and split words into single \"word\"\n",
    "    words = [word for word in words if not (word in stop_words)]\n",
    "#Loop for removing punctuation using stemmer (nested within lowercase loop)\n",
    "    for word in words:\n",
    "        word = stemmer.stem(word)\n",
    "        #Can now increment\n",
    "        clintontotalwords += 1\n",
    "        clintonwordcount[word] += 1\n",
    "\n",
    "    tempstr = ' '.join(words)\n",
    "    templist = [[tempstr, tempwordcount]]\n",
    "    tempdf = pd.DataFrame(data = templist, columns=tweetcolumns)\n",
    "    tweetwordclintoncount = tweetwordclintoncount.append(tempdf, ignore_index=True)\n",
    "    tempwordcount = 0"
   ],
   "metadata": {
    "collapsed": false,
    "pycharm": {
     "name": "#%%\n"
    }
   }
  },
  {
   "cell_type": "code",
   "execution_count": 90,
   "outputs": [
    {
     "data": {
      "text/plain": "                                                text wordcount\n0             remember debatepictwittercomrlmbtt5wwy         0\n1     httphrcio2dqkjip debatepictwittercomc4mp8cponf         0\n2              lets go debatepictwittercomhd3zvj9xl8         0\n3  everyone knows bright resilient buttheyre goin...         0\n4  progress weve made last 8 years ballot —potus ...         0",
      "text/html": "<div>\n<style scoped>\n    .dataframe tbody tr th:only-of-type {\n        vertical-align: middle;\n    }\n\n    .dataframe tbody tr th {\n        vertical-align: top;\n    }\n\n    .dataframe thead th {\n        text-align: right;\n    }\n</style>\n<table border=\"1\" class=\"dataframe\">\n  <thead>\n    <tr style=\"text-align: right;\">\n      <th></th>\n      <th>text</th>\n      <th>wordcount</th>\n    </tr>\n  </thead>\n  <tbody>\n    <tr>\n      <th>0</th>\n      <td>remember debatepictwittercomrlmbtt5wwy</td>\n      <td>0</td>\n    </tr>\n    <tr>\n      <th>1</th>\n      <td>httphrcio2dqkjip debatepictwittercomc4mp8cponf</td>\n      <td>0</td>\n    </tr>\n    <tr>\n      <th>2</th>\n      <td>lets go debatepictwittercomhd3zvj9xl8</td>\n      <td>0</td>\n    </tr>\n    <tr>\n      <th>3</th>\n      <td>everyone knows bright resilient buttheyre goin...</td>\n      <td>0</td>\n    </tr>\n    <tr>\n      <th>4</th>\n      <td>progress weve made last 8 years ballot —potus ...</td>\n      <td>0</td>\n    </tr>\n  </tbody>\n</table>\n</div>"
     },
     "execution_count": 90,
     "metadata": {},
     "output_type": "execute_result"
    }
   ],
   "source": [
    "tweetwordclintoncount.head()"
   ],
   "metadata": {
    "collapsed": false,
    "pycharm": {
     "name": "#%%\n"
    }
   }
  },
  {
   "cell_type": "code",
   "execution_count": 91,
   "outputs": [],
   "source": [
    "#Appending trump's word count to a y x 2 list\n",
    "clintonwordcountlist = []\n",
    "\n",
    "for word in clintonwordcount:\n",
    "   clintonwordcountlist.append([clintonwordcount[word], word])"
   ],
   "metadata": {
    "collapsed": false,
    "pycharm": {
     "name": "#%%\n"
    }
   }
  },
  {
   "cell_type": "code",
   "execution_count": 92,
   "outputs": [],
   "source": [
    "sortedclintonwordcount = [(clintonwordcount[w], w) for w in clintonwordcount]\n",
    "sortedclintonwordcount.sort(reverse=True)"
   ],
   "metadata": {
    "collapsed": false,
    "pycharm": {
     "name": "#%%\n"
    }
   }
  },
  {
   "cell_type": "code",
   "execution_count": 93,
   "outputs": [
    {
     "name": "stdout",
     "output_type": "stream",
     "text": [
      "The total amount of words in 2016: \n",
      "for trump = 92224\n",
      "for clinton: 32975\n",
      "\n",
      "The top 5 words in 2016 for trump: \n",
      "[(1900, 'realdonaldtrump'), (1286, 'trump'), (1100, 'great'), (796, 'presid'), (751, 'thank')]\n",
      "The bottom 5 words in 2016 for trump: \n",
      "[(1, '03052014'), (1, '0306'), (1, '061615'), (1, '07'), (1, '0745')]\n"
     ]
    }
   ],
   "source": [
    "print(\"The total amount of words in 2016: \\nfor trump = \" + str(trumptotalwords) + \"\\nfor clinton: \" + str(clintontotalwords))\n",
    "#Printing total words of both candidates\n",
    "print(\"\\nThe top 5 words in 2016 for trump: \\n\" + str(sortedtrumpwordcount[0:5:1]) + \"\\nThe bottom 5 words in 2016 for trump: \\n\" + str(sortedtrumpwordcount[:-6:-1]))\n",
    "#Will not check the dictionary, it takes up way too space in the output"
   ],
   "metadata": {
    "collapsed": false,
    "pycharm": {
     "name": "#%%\n"
    }
   }
  },
  {
   "cell_type": "markdown",
   "source": [
    "Question 2b\n",
    "How many times does the word great occur in Clinton’s tweets? What about bias, fake, and love?"
   ],
   "metadata": {
    "collapsed": false,
    "pycharm": {
     "name": "#%% md\n"
    }
   }
  },
  {
   "cell_type": "code",
   "execution_count": 94,
   "outputs": [],
   "source": [
    "#Creating dataframe to find word counts easily by word\n",
    "columnnames = [\"count\", \"word\"]\n",
    "trumpwordcountdata = pd.DataFrame(data = sortedtrumpwordcount, columns=columnnames)\n",
    "clintonwordcountdata = pd.DataFrame(data = sortedclintonwordcount, columns=columnnames)"
   ],
   "metadata": {
    "collapsed": false,
    "pycharm": {
     "name": "#%%\n"
    }
   }
  },
  {
   "cell_type": "code",
   "execution_count": 95,
   "outputs": [
    {
     "data": {
      "text/plain": "      count   word\n60       71   love\n63       70  great\n5886      1   fake",
      "text/html": "<div>\n<style scoped>\n    .dataframe tbody tr th:only-of-type {\n        vertical-align: middle;\n    }\n\n    .dataframe tbody tr th {\n        vertical-align: top;\n    }\n\n    .dataframe thead th {\n        text-align: right;\n    }\n</style>\n<table border=\"1\" class=\"dataframe\">\n  <thead>\n    <tr style=\"text-align: right;\">\n      <th></th>\n      <th>count</th>\n      <th>word</th>\n    </tr>\n  </thead>\n  <tbody>\n    <tr>\n      <th>60</th>\n      <td>71</td>\n      <td>love</td>\n    </tr>\n    <tr>\n      <th>63</th>\n      <td>70</td>\n      <td>great</td>\n    </tr>\n    <tr>\n      <th>5886</th>\n      <td>1</td>\n      <td>fake</td>\n    </tr>\n  </tbody>\n</table>\n</div>"
     },
     "execution_count": 95,
     "metadata": {},
     "output_type": "execute_result"
    }
   ],
   "source": [
    "#Finding the words in clintonwordcountdata\n",
    "wordfind = [\"great\", \"bias\", \"fake\", \"love\"]\n",
    "clintonwordcountdata[clintonwordcountdata.word.isin(wordfind)]"
   ],
   "metadata": {
    "collapsed": false,
    "pycharm": {
     "name": "#%%\n"
    }
   }
  },
  {
   "cell_type": "markdown",
   "source": [
    "Question 2c\n",
    "* First, let’s compute term frequency. For each document d and term t, the term frequency (tf)"
   ],
   "metadata": {
    "collapsed": false,
    "pycharm": {
     "name": "#%% md\n"
    }
   }
  },
  {
   "cell_type": "code",
   "execution_count": 96,
   "outputs": [],
   "source": [
    "#Creating rough computation for term frequency\n",
    "#termfrequency = (count term in doc) / (wordnum in doc)\n",
    "#Need to find doc\n",
    "    #Loop in doc to find term count and wordnum in doc total\n",
    "#Testing with example"
   ],
   "metadata": {
    "collapsed": false,
    "pycharm": {
     "name": "#%%\n"
    }
   }
  },
  {
   "cell_type": "code",
   "execution_count": 97,
   "outputs": [],
   "source": [
    "#Brainstorming\n",
    "#Need to iterate through each row and store a value per row\n",
    "#Will need a loop and a spare list to save word counts\n",
    "\n",
    "\n",
    "#index = trumptexts.index\n",
    "#numrows = len(index)"
   ],
   "metadata": {
    "collapsed": false,
    "pycharm": {
     "name": "#%%\n"
    }
   }
  },
  {
   "cell_type": "code",
   "execution_count": 98,
   "outputs": [],
   "source": [
    "def tweetwordcountermini(tweet, wordin):\n",
    "    \"\"\"\n",
    "    Counts the instances your passed in word occurs within a given string\n",
    "    Note: String must be lowercase, and have punctuation stripped\n",
    "    (2 inputs, 1 return)\n",
    "    :param tweet: input, str, formatted with spaces\n",
    "    :param wordin: input, str, word you wish to count\n",
    "    :return:\n",
    "    Integer as count, number of instances inputted word is\n",
    "    found in the given string of text.\n",
    "    \"\"\"\n",
    "    referenceword = wordin\n",
    "    functioncount = 0\n",
    "    words = tweet.strip().split()\n",
    "    for word in words:\n",
    "        if word == referenceword:\n",
    "            functioncount += 1\n",
    "    return functioncount"
   ],
   "metadata": {
    "collapsed": false,
    "pycharm": {
     "name": "#%%\n"
    }
   }
  },
  {
   "cell_type": "code",
   "execution_count": 99,
   "outputs": [
    {
     "data": {
      "text/plain": "1"
     },
     "execution_count": 99,
     "metadata": {},
     "output_type": "execute_result"
    }
   ],
   "source": [
    "textinput = tweetwordclintoncount['text'][30]\n",
    "tweetwordcountermini(textinput, \"care\")\n",
    "#Okay, this is kind of working! Now I need to make a larger loop using a\n",
    "#similar function format in order to check each doc for\n",
    "#A given word."
   ],
   "metadata": {
    "collapsed": false,
    "pycharm": {
     "name": "#%%\n"
    }
   }
  },
  {
   "cell_type": "code",
   "execution_count": 100,
   "outputs": [],
   "source": [
    "def tweetwordcountermain(column, wordin):\n",
    "    \"\"\"\n",
    "    Counts the instances your passed in word occurs within a given string\n",
    "    Note: String must be lowercase, and have punctuation stripped\n",
    "    (2 inputs, 1 return)\n",
    "    :param column: input, dataframe column containing strings.\n",
    "    :param wordin: input, str, word you wish to count\n",
    "    :return:\n",
    "    Integer as functioncount, number of instances inputted, then averaged\n",
    "    \"\"\"\n",
    "    tweetlist = column\n",
    "    referenceword = wordin\n",
    "    functioncount = 0\n",
    "    seltweetcount = 0\n",
    "    averagecountlist = []\n",
    "    average = 0\n",
    "    loopcount = 0\n",
    "    for tweet in tweetlist:\n",
    "        words = tweet.strip().split()\n",
    "        for word in words:\n",
    "            if word == referenceword:\n",
    "                functioncount += 1\n",
    "                #Count of t in d\n",
    "            seltweetcount += 1\n",
    "            #Count of w in d\n",
    "        averagecountlist.append(functioncount/seltweetcount)\n",
    "        #Gives me tf for one tweet and appends to a list\n",
    "    averagecountlength = len(averagecountlist)\n",
    "    for item in averagecountlist:\n",
    "        average += item\n",
    "    #print(average)\n",
    "    #print(averagecountlength)\n",
    "    #Took me way too long to notice the - after e, else I\n",
    "    #Kept thinking my code was way off and overcounting\n",
    "    average = (average/averagecountlength)\n",
    "    print(average)\n",
    "    return"
   ],
   "metadata": {
    "collapsed": false,
    "pycharm": {
     "name": "#%%\n"
    }
   }
  },
  {
   "cell_type": "markdown",
   "source": [
    "Question 2c"
   ],
   "metadata": {
    "collapsed": false,
    "pycharm": {
     "name": "#%% md\n"
    }
   }
  },
  {
   "cell_type": "code",
   "execution_count": 101,
   "outputs": [
    {
     "name": "stdout",
     "output_type": "stream",
     "text": [
      "Number of times each candidate said great:\n",
      "Trump = \n",
      "0.013342132515729929\n",
      "Clinton = \n",
      "0.0023287129410133494\n",
      "\n",
      "Number of times each candidate said bias:\n",
      "Trump = \n",
      "8.733915590898348e-05\n",
      "Clinton = \n",
      "4.469638058130801e-05\n",
      "\n",
      "Number of times each candidate said fake:\n",
      "Trump = \n",
      "7.93861740118536e-05\n",
      "Clinton = \n",
      "2.7758797311412077e-05\n",
      "\n",
      "Number of times each candidate said love:\n",
      "Trump = \n",
      "0.00227472128245173\n",
      "Clinton = \n",
      "0.0016615024078068443\n"
     ]
    }
   ],
   "source": [
    "print(\"Number of times each candidate said great:\\nTrump = \")\n",
    "tweetwordcountermain(tweetwordtrumpcount[\"text\"], \"great\")\n",
    "print(\"Clinton = \")\n",
    "tweetwordcountermain(tweetwordclintoncount[\"text\"], \"great\")\n",
    "print(\"\\nNumber of times each candidate said bias:\\nTrump = \")\n",
    "tweetwordcountermain(tweetwordtrumpcount[\"text\"], \"bias\")\n",
    "print(\"Clinton = \")\n",
    "tweetwordcountermain(tweetwordclintoncount[\"text\"], \"bias\")\n",
    "print(\"\\nNumber of times each candidate said fake:\\nTrump = \")\n",
    "tweetwordcountermain(tweetwordtrumpcount[\"text\"], \"fake\")\n",
    "print(\"Clinton = \")\n",
    "tweetwordcountermain(tweetwordclintoncount[\"text\"], \"fake\")\n",
    "print(\"\\nNumber of times each candidate said love:\\nTrump = \")\n",
    "tweetwordcountermain(tweetwordtrumpcount[\"text\"], \"love\")\n",
    "print(\"Clinton = \")\n",
    "tweetwordcountermain(tweetwordclintoncount[\"text\"], \"love\")\n",
    "\n",
    "#Wow, what the heck. I wasn't surprised much from the first two given the president's\n",
    "#Lack of diverse vocabulary. But fake and love absolutely shocked me.\n",
    "#I always thought trump's tweets would have fake occure more often,\n",
    "#But here we are..very very strange."
   ],
   "metadata": {
    "collapsed": false,
    "pycharm": {
     "name": "#%%\n"
    }
   }
  },
  {
   "cell_type": "markdown",
   "source": [
    "Question 2d\n",
    "* What is the inverse document frequency of great, bias, fake, and love in Trump’s tweets? What about Clinton?"
   ],
   "metadata": {
    "collapsed": false,
    "pycharm": {
     "name": "#%% md\n"
    }
   }
  },
  {
   "cell_type": "code",
   "execution_count": 102,
   "outputs": [],
   "source": [
    "#Brainstorming...\n",
    "#Need to have a counter set to count number of documents\n",
    "#This can most likely be done with a similar if statement, but more restrictive per tweet (only once per tweet if found\n",
    "#verus once every found term).\n",
    "\n",
    "#D = # of documents total\n",
    "#d = document selected\n",
    "#t = term\n",
    "#Forumula would be: log(D/(# of d that contain t)\n",
    "#Need to stop forgetting that ∈ means \"there exists\"\n",
    "#Creating function\n",
    "def inversedocfrequency(column, wordin):\n",
    "    \"\"\"\n",
    "    Counts the instances your passed in word occurs within all documents\n",
    "    Note: String must be lowercase, and have punctuation stripped\n",
    "    (2 inputs, 1 return)\n",
    "    :param column: input, dataframe column containing strings.\n",
    "    :param wordin: input, str, word you wish to track\n",
    "    :return:\n",
    "    Integer or float as inverse document frequency\n",
    "    \"\"\"\n",
    "    tweetlist = column\n",
    "    referenceword = wordin\n",
    "    inversedocfreq = 0\n",
    "    tweetdoccount = 0\n",
    "    totaldoccount = 0\n",
    "    trigger = False\n",
    "\n",
    "    for tweet in tweetlist:\n",
    "        #Going through each tweet aka document\n",
    "        totaldoccount += 1 #This is D\n",
    "        words = tweet.strip().split() #Splitting into words to iterate through each one\n",
    "        for word in words: #For each word\n",
    "            if word == referenceword: #If it matches the passed reference word\n",
    "                trigger = True\n",
    "                #enables count of document as True (contains the reference word)\n",
    "        if trigger == True:\n",
    "            tweetdoccount += 1\n",
    "            #This is the denominator = docs that do contain the word\n",
    "        trigger = False\n",
    "        #Resetting the trigger\n",
    "\n",
    "    #Calculating inverse document frequency\n",
    "    inversedocfreq = (totaldoccount/tweetdoccount) #Dividing total D docs by total d with t docs\n",
    "    inversedocfreq = math.log(inversedocfreq) #Applying log ratio\n",
    "    print(inversedocfreq)\n",
    "    return"
   ],
   "metadata": {
    "collapsed": false,
    "pycharm": {
     "name": "#%%\n"
    }
   }
  },
  {
   "cell_type": "code",
   "execution_count": 103,
   "outputs": [
    {
     "name": "stdout",
     "output_type": "stream",
     "text": [
      "2.1120812789933012\n"
     ]
    }
   ],
   "source": [
    "inversedocfrequency(tweetwordtrumpcount[\"text\"], \"great\") #Whoo hoo it works!"
   ],
   "metadata": {
    "collapsed": false,
    "pycharm": {
     "name": "#%%\n"
    }
   }
  },
  {
   "cell_type": "code",
   "execution_count": 104,
   "outputs": [
    {
     "name": "stdout",
     "output_type": "stream",
     "text": [
      "The Inverse Document Frequency of great for:\n",
      "Trump = \n",
      "2.1120812789933012\n",
      "Clinton = \n",
      "3.9773808629491194\n",
      "\n",
      "The Inverse Document Frequency of bias for:\n",
      "Trump = \n",
      "7.431181184723866\n",
      "Clinton = \n",
      "7.395107546562485\n",
      "\n",
      "The Inverse Document Frequency of fake for:\n",
      "Trump = \n",
      "7.431181184723866\n",
      "Clinton = \n",
      "8.08825472712243\n",
      "\n",
      "The Inverse Document Frequency of love for:\n",
      "Trump = \n",
      "3.6607217436175072\n",
      "Clinton = \n",
      "4.196434429011804\n"
     ]
    }
   ],
   "source": [
    "#Computing document frequency for \"great, bias, fake, and love\"\n",
    "\n",
    "print(\"The Inverse Document Frequency of great for:\\nTrump = \")\n",
    "inversedocfrequency(tweetwordtrumpcount[\"text\"], \"great\")\n",
    "print(\"Clinton = \")\n",
    "inversedocfrequency(tweetwordclintoncount[\"text\"], \"great\")\n",
    "print(\"\\nThe Inverse Document Frequency of bias for:\\nTrump = \")\n",
    "inversedocfrequency(tweetwordtrumpcount[\"text\"], \"bias\")\n",
    "print(\"Clinton = \")\n",
    "inversedocfrequency(tweetwordclintoncount[\"text\"], \"bias\")\n",
    "print(\"\\nThe Inverse Document Frequency of fake for:\\nTrump = \")\n",
    "inversedocfrequency(tweetwordtrumpcount[\"text\"], \"fake\")\n",
    "print(\"Clinton = \")\n",
    "inversedocfrequency(tweetwordclintoncount[\"text\"], \"fake\")\n",
    "print(\"\\nThe Inverse Document Frequency of love for:\\nTrump = \")\n",
    "inversedocfrequency(tweetwordtrumpcount[\"text\"], \"love\")\n",
    "print(\"Clinton = \")\n",
    "inversedocfrequency(tweetwordclintoncount[\"text\"], \"love\")"
   ],
   "metadata": {
    "collapsed": false,
    "pycharm": {
     "name": "#%%\n"
    }
   }
  },
  {
   "cell_type": "markdown",
   "source": [
    "Question 2e\n",
    "* Finding TF x IDF\n",
    "    *Tweets in the rows and words in the columns\n",
    "    *Passing in 10 tweets to generate a 10x4 matrix"
   ],
   "metadata": {
    "collapsed": false,
    "pycharm": {
     "name": "#%% md\n"
    }
   }
  },
  {
   "cell_type": "code",
   "execution_count": 105,
   "outputs": [],
   "source": [
    "#Brainstorming\n",
    "#Can probably combine both functions in one line, but that leaves out the appending into a matrix issue\n",
    "#Matrix needs to be the width of the words, as each word is a column\n",
    "#Maybe making a new function to pass in a list, then passing in the sliced column\n",
    "#Testing that functionality\n",
    "#tweetwordtrumpcount[\"text\"][0:10:1]\n",
    "#It works! This will be easy, I hope...\n",
    "\n",
    "#Can potentially grab the y axis of the dataframe to create length of new dataframe\n",
    "#Columns = list of words, Index = array made from length of dataframe\n",
    "\n",
    "#IDF is confusing, as that is calculated using the entire set of documents? So where is that stored?\n",
    "#       Word    Word    Word    Word\n",
    "#Doc1   TFIDF   TFIDF   TFIDF   TFIDF   ?\n",
    "\n",
    "#So a list will be made for each document that is iterated through? But then what about IDF?\n",
    "#Wouldn't this require multiple reruns in order to store it and calculate?\n",
    "#IDF would need to be calculate first for the entire term\n",
    "#Then the term would need to be compared within each document to find the TF\n",
    "#Once TFxIDF is found, then it can be mad into a row"
   ],
   "metadata": {
    "collapsed": false,
    "pycharm": {
     "name": "#%%\n"
    }
   }
  },
  {
   "cell_type": "code",
   "execution_count": 106,
   "outputs": [],
   "source": [
    "def tfidf(column, wordlistin):\n",
    "    \"\"\"\n",
    "    Counts the instances your passed in word occurs within a given string\n",
    "    Note: String must be lowercase, and have punctuation stripped\n",
    "    (2 inputs, 1 return)\n",
    "    :param column: input, dataframe column (or set of rows within a column) containing strings.\n",
    "    :param wordlistin: input, str, word/s you wish to count (must be a list)\n",
    "    :return:\n",
    "    A dataframe listing the tfidf calculation for all given terms in all given documents\n",
    "    \"\"\"\n",
    "    tweetlist = column\n",
    "    wordlist = wordlistin\n",
    "    functioncount = 0\n",
    "    doctweetcount = 0\n",
    "    totaldoccount = 0\n",
    "    tweetdoccount = 0\n",
    "    idfcalc = 0\n",
    "    trigger = False\n",
    "    termfrequencylist = []\n",
    "    termfrequency = 0\n",
    "    index = 0\n",
    "    finalcalclist = []\n",
    "    finaldataframe = pd.DataFrame(columns=wordlist) #Creating empty df to append values in\n",
    "\n",
    "    for referenceword in wordlist: #Iterates through each reference word provided\n",
    "        for tweet in tweetlist: #Iterates through each tweet in the passed through column (doc = tweet)\n",
    "            words = tweet.strip().split() #Splits string into words\n",
    "            for word in words: #For every word in the given word list\n",
    "                if word == referenceword: #If the word matches the current reference word\n",
    "                    functioncount += 1 #Counts the amount of times reference word is found\n",
    "                    #Count of t in d\n",
    "                    trigger = True  #enables count of document as True (contains the reference word)\n",
    "                doctweetcount += 1 #Counts how many tweets are within the selected document\n",
    "                #Count of w in d\n",
    "            termfrequency = (functioncount/doctweetcount) #Calculating term frequency t in d / w in d\n",
    "            termfrequencylist.append(termfrequency)\n",
    "            if trigger == True: #Checks trigger\n",
    "                tweetdoccount += 1 #Counts the number of docs that do contain the selected word\n",
    "            trigger = False #Resetting the trigger\n",
    "            totaldoccount += 1\n",
    "            doctweetcount = 0\n",
    "\n",
    "\n",
    "        #Calculating inverse document frequency for the selected term\n",
    "        if tweetdoccount != 0:\n",
    "            idfcalc = (totaldoccount/tweetdoccount) #Dividing total D docs by total d with t docs\n",
    "            idfcalc = (math.log(idfcalc)) #IDF doesn't need to be appended to a list\n",
    "        elif tweetdoccount == 0:\n",
    "            idfcalc = 0\n",
    "\n",
    "        #Now to add it all together into one dataframe which will be appended to a single large one\n",
    "        for document in tweetlist: #Iterates through each document again\n",
    "            finalcalclist.append(idfcalc*termfrequencylist[index]) #Appending to list, calculated tf x idf per doc\n",
    "            index+=1 #To iterate through each item in the list\n",
    "\n",
    "\n",
    "        #tempdataframe = pd.DataFrame(data = finalcalclist, columns = [referenceword], index = dfindex)\n",
    "        #The above is what screwed me up for a day. I forgot how to append a list as a new column and did something\n",
    "        #Way too complex for what I wanted\n",
    "        finaldataframe[referenceword] = finalcalclist #Appending to main dataframe under column based on reference names\n",
    "\n",
    "\n",
    "\n",
    "        #Resetting each variable to do the next loop\n",
    "        functioncount = 0\n",
    "        seltweetcount = 0\n",
    "        averagecountlist = []\n",
    "        finalcalclist = []\n",
    "        totaldoccount = 0\n",
    "        doctweetcount = 0\n",
    "        tweetdoccount = 0\n",
    "        idfcalc = 0\n",
    "        trigger = False\n",
    "        termfrequencylist = []\n",
    "        termfrequency = 0\n",
    "        index = 0\n",
    "\n",
    "    return (finaldataframe)"
   ],
   "metadata": {
    "collapsed": false,
    "pycharm": {
     "name": "#%%\n"
    }
   }
  },
  {
   "cell_type": "code",
   "execution_count": 107,
   "outputs": [
    {
     "data": {
      "text/plain": "      great  bias  fake  love\n0  0.000000   0.0   0.0   0.0\n1  0.000000   0.0   0.0   0.0\n2  0.000000   0.0   0.0   0.0\n3  0.000000   0.0   0.0   0.0\n4  0.229920   0.0   0.0   0.0\n5  0.268240   0.0   0.0   0.0\n6  0.229920   0.0   0.0   0.0\n7  0.292625   0.0   0.0   0.0\n8  0.268240   0.0   0.0   0.0\n9  0.247606   0.0   0.0   0.0",
      "text/html": "<div>\n<style scoped>\n    .dataframe tbody tr th:only-of-type {\n        vertical-align: middle;\n    }\n\n    .dataframe tbody tr th {\n        vertical-align: top;\n    }\n\n    .dataframe thead th {\n        text-align: right;\n    }\n</style>\n<table border=\"1\" class=\"dataframe\">\n  <thead>\n    <tr style=\"text-align: right;\">\n      <th></th>\n      <th>great</th>\n      <th>bias</th>\n      <th>fake</th>\n      <th>love</th>\n    </tr>\n  </thead>\n  <tbody>\n    <tr>\n      <th>0</th>\n      <td>0.000000</td>\n      <td>0.0</td>\n      <td>0.0</td>\n      <td>0.0</td>\n    </tr>\n    <tr>\n      <th>1</th>\n      <td>0.000000</td>\n      <td>0.0</td>\n      <td>0.0</td>\n      <td>0.0</td>\n    </tr>\n    <tr>\n      <th>2</th>\n      <td>0.000000</td>\n      <td>0.0</td>\n      <td>0.0</td>\n      <td>0.0</td>\n    </tr>\n    <tr>\n      <th>3</th>\n      <td>0.000000</td>\n      <td>0.0</td>\n      <td>0.0</td>\n      <td>0.0</td>\n    </tr>\n    <tr>\n      <th>4</th>\n      <td>0.229920</td>\n      <td>0.0</td>\n      <td>0.0</td>\n      <td>0.0</td>\n    </tr>\n    <tr>\n      <th>5</th>\n      <td>0.268240</td>\n      <td>0.0</td>\n      <td>0.0</td>\n      <td>0.0</td>\n    </tr>\n    <tr>\n      <th>6</th>\n      <td>0.229920</td>\n      <td>0.0</td>\n      <td>0.0</td>\n      <td>0.0</td>\n    </tr>\n    <tr>\n      <th>7</th>\n      <td>0.292625</td>\n      <td>0.0</td>\n      <td>0.0</td>\n      <td>0.0</td>\n    </tr>\n    <tr>\n      <th>8</th>\n      <td>0.268240</td>\n      <td>0.0</td>\n      <td>0.0</td>\n      <td>0.0</td>\n    </tr>\n    <tr>\n      <th>9</th>\n      <td>0.247606</td>\n      <td>0.0</td>\n      <td>0.0</td>\n      <td>0.0</td>\n    </tr>\n  </tbody>\n</table>\n</div>"
     },
     "execution_count": 107,
     "metadata": {},
     "output_type": "execute_result"
    }
   ],
   "source": [
    "#Creating a list of tweets to check in the text\n",
    "listoftweetstotest = [\"great\",\"bias\",\"fake\",\"love\"]\n",
    "#Using tfidf function for trumps tweets\n",
    "tfidf(tweetwordtrumpcount[\"text\"][0:10:1], listoftweetstotest)"
   ],
   "metadata": {
    "collapsed": false,
    "pycharm": {
     "name": "#%%\n"
    }
   }
  },
  {
   "cell_type": "markdown",
   "source": [
    "Question 2f\n",
    "* Run a topic models for Trump's and Clintons tweets set at 10 topics"
   ],
   "metadata": {
    "collapsed": false,
    "pycharm": {
     "name": "#%% md\n"
    }
   }
  },
  {
   "cell_type": "code",
   "execution_count": 108,
   "outputs": [],
   "source": [
    "#Brainstorming\n",
    "#Well since the outputted matrix is essentially a dataframe, it should be able to be passed into sns or matplotlib.\n",
    "#Will need to create a new dataframe for both trump's and clinton's 10 topics and store them in separate dataframes"
   ],
   "metadata": {
    "collapsed": false,
    "pycharm": {
     "name": "#%%\n"
    }
   }
  },
  {
   "cell_type": "code",
   "execution_count": 109,
   "outputs": [],
   "source": [
    "#Creating a list of tweets to check in the text for both Clinton and Trump (10)\n",
    "newlistoftweetstotest = [\"fake\",\"news\",\"terrible\",\"weird\", \"poor\", \"rich\", \"community\", \"equal\", \"justice\", \"injustice\"]\n",
    "#Using tfidf function for trumps tweets\n",
    "final_data_of_trump=tfidf(tweetwordtrumpcount[\"text\"][0::1], newlistoftweetstotest)\n",
    "final_data_of_clinton=tfidf(tweetwordclintoncount[\"text\"][0::1], newlistoftweetstotest)\n",
    "\n",
    "#Successfully created 10 topic dataframe for both trump and clinton (counting total amount of words)\n",
    "#Will make two models (visualizations) based off of general frequency comparison\n",
    "#Model should be a bar chart of sums of tweets\n",
    "#Both must be comparisons"
   ],
   "metadata": {
    "collapsed": false,
    "pycharm": {
     "name": "#%%\n"
    }
   }
  },
  {
   "cell_type": "code",
   "execution_count": 110,
   "outputs": [
    {
     "name": "stderr",
     "output_type": "stream",
     "text": [
      "<ipython-input-110-f0d81d5f06c6>:6: RuntimeWarning: invalid value encountered in true_divide\n",
      "  list_of_sum_tweet_clinton.append((sum(final_data_of_clinton[word])) / ((final_data_of_clinton[word] != 0).sum()))\n",
      "<ipython-input-110-f0d81d5f06c6>:5: RuntimeWarning: invalid value encountered in true_divide\n",
      "  list_of_sum_tweet_trump.append((sum(final_data_of_trump[word])) / ((final_data_of_trump[word] != 0).sum()))\n"
     ]
    }
   ],
   "source": [
    "#Creating sum of word count dataframes for trump and clinton\n",
    "list_of_sum_tweet_clinton = [] #Clean lists to append for later dataframe creation\n",
    "list_of_sum_tweet_trump = []\n",
    "for word in newlistoftweetstotest: #For every word in the 10 word list\n",
    "    list_of_sum_tweet_trump.append((sum(final_data_of_trump[word])) / ((final_data_of_trump[word] != 0).sum()))\n",
    "    list_of_sum_tweet_clinton.append((sum(final_data_of_clinton[word])) / ((final_data_of_clinton[word] != 0).sum()))\n",
    "#Calculated the relative frequency of each word within the dataframes for each candidate and stored them in a list"
   ],
   "metadata": {
    "collapsed": false,
    "pycharm": {
     "name": "#%%\n"
    }
   }
  },
  {
   "cell_type": "code",
   "execution_count": 111,
   "outputs": [],
   "source": [
    "#Creating a dataframe using Trump's frequencies first, followed by Clinton's\n",
    "sum_dataframe = pd.DataFrame(data = list_of_sum_tweet_trump, columns=['Trump'], index=newlistoftweetstotest)\n",
    "sum_dataframe['Clinton'] = list_of_sum_tweet_clinton\n",
    "sum_dataframe = sum_dataframe.swapaxes(\"index\", \"columns\") #Swapping axes to perform melting of data in next cell\n",
    "sum_dataframe = sum_dataframe.rename_axis('Candidate').reset_index() #Resetting the index"
   ],
   "metadata": {
    "collapsed": false,
    "pycharm": {
     "name": "#%%\n"
    }
   }
  },
  {
   "cell_type": "code",
   "execution_count": 112,
   "outputs": [],
   "source": [
    "#Melting data into dataframe appropriate for factorplotting using seaborn\n",
    "sum_dataframe_melted = pd.melt(sum_dataframe, id_vars=\"Candidate\", var_name=\"Word\", value_name=\"Frequency within 2016 Tweets\")"
   ],
   "metadata": {
    "collapsed": false,
    "pycharm": {
     "name": "#%%\n"
    }
   }
  },
  {
   "cell_type": "code",
   "execution_count": 113,
   "outputs": [
    {
     "name": "stderr",
     "output_type": "stream",
     "text": [
      "/Library/Frameworks/Python.framework/Versions/3.9/lib/python3.9/site-packages/seaborn/categorical.py:3714: UserWarning: The `factorplot` function has been renamed to `catplot`. The original name will be removed in a future release. Please update your code. Note that the default `kind` in `factorplot` (`'point'`) has changed `'strip'` in `catplot`.\n",
      "  warnings.warn(msg)\n"
     ]
    },
    {
     "data": {
      "text/plain": "<Figure size 453.1x360 with 1 Axes>",
      "image/png": "[encoded data removed]"
     },
     "metadata": {},
     "output_type": "display_data"
    }
   ],
   "source": [
    "#Adjusting the font size\n",
    "plt.rcParams.update({'font.size': 18})\n",
    "sns.set(rc={'axes.facecolor': 'white', 'figure.facecolor' : 'white'})\n",
    "\n",
    "#Making a factorplot using the relative frequency data divded by candidate and labeled/Colored by the Word\n",
    "sns_plot = sns.factorplot(data = sum_dataframe_melted, x='Candidate', y='Frequency within 2016 Tweets', hue='Word', kind='bar', palette=\"Paired\")\n",
    "#Applying Title\n",
    "plt.title('Relative Frequency of certain words the top two Presidential Candidates mentioned on Twitter.com during 2016')\n",
    "#Saving Figure\n",
    "sns_plot.savefig(\"Relative Frequency Of Certain Tweets - Clinton and Trump 2016\")"
   ],
   "metadata": {
    "collapsed": false,
    "pycharm": {
     "name": "#%%\n"
    }
   }
  },
  {
   "cell_type": "markdown",
   "source": [
    "In response to giving details on a potential project (final for CSS 100)\n",
    "\n",
    "##### Question 3\n",
    "* 3a\n",
    "    * What will meat consumption for the Unites States (or world, still deciding) look like in the future?\n",
    "* 3b\n",
    "    * I will be using two forms of datasets acquired through Kaggle.com from user's Vagif Aliyev\n",
    "    (data taken from OECD agriculture statistics) and Michael Scott (data taken from indexmundi's global meat price indicator).\n",
    "    I've thought about using data from only the United States, but unfortunately the meat price index does not involve consumer-based\n",
    "    spending on the product, only the value indicated of what could be made in retail supermarkets (USDA source). This means that sales of the\n",
    "    actual meat would not be accurate to what people spend, only on what markets spend for supply. This is also why I chose the\n",
    "    global meat consumption instead, which would better track consumer's reactions to beef prices. Indexmundi does not provide\n",
    "    individual price indexes per country, only globally (incorporates trade agreements from all countries).\n",
    "* 3c\n",
    "    *I hope to use a simple linear regression model to predict a trend on the price of beef, poultry, and pork within the united states, which when\n",
    "    correlated with the consumption of meat, should predict where our meat consumption should be. Linear regression also allows a prediction past the given y\n",
    "    axis, which means if it lowers or raises past that of the past, it should catch it.\n",
    "* 3e\n",
    "    *The other form of machine learning I hope to use k-means clustering, as the\n",
    "    multiple countries can provide useful dimensionality of the data to see if there are any groups forming due to the prices. It would be difficult as there\n",
    "    are very few documents per country available (less days, more by year which also limits prescision). Plus this would be better for more categorical analysis\n",
    "    rather than hard predictive analysis. I have the data for x and y, but no defined categories. Maybe the clusters that appear might change my approach. If\n",
    "    they even change\n",
    "* 3d\n",
    "    * To be absolutely honest, I have no idea. I've never had a project this diverse and untethered in scope. Usually projects give me some form of\n",
    "    topic to follow or preset topics to pick, so this will be very difficult, a lot of procrastination will take place. I defintely could tie meat consumption\n",
    "    with the social implications of how society views vegetarians, as I would assume that the more expensive meat becomes, the more vegetarians would exist, and the\n",
    "    more likely they would be accepted by general society. I could see support for environmental concerns going up if the price of meat rises and accompanying consumption\n",
    "    of meat, if that actually happens. Or maybe the trends I see in the regression show that meat consumption is lowering in spite of population increases. Maybe\n",
    "    the economy of a certain country is what dictates meat consumption, and we can predict their economy using this meat price method without even looking at\n",
    "    a country's GDP. I don't think I'll feel comfortable using this paper for a writing sample for grad school as I know I'm going to hold this project off\n",
    "    until I rush through it, but I would definitely share it with others including the code so that more people can have a chance to build on the rough\n",
    "    structure I made off of the datasets. I am excited to see what happens once I view the Linear Regression model, will it show an increase in consumption, or a\n",
    "    decrease?"
   ],
   "metadata": {
    "collapsed": false,
    "pycharm": {
     "name": "#%% md\n"
    }
   }
  }
 ],
 "metadata": {
  "kernelspec": {
   "display_name": "Python 3",
   "language": "python",
   "name": "python3"
  },
  "language_info": {
   "codemirror_mode": {
    "name": "ipython",
    "version": 2
   },
   "file_extension": ".py",
   "mimetype": "text/x-python",
   "name": "python",
   "nbconvert_exporter": "python",
   "pygments_lexer": "ipython2",
   "version": "2.7.6"
  }
 },
 "nbformat": 4,
 "nbformat_minor": 0
}